{
  "nbformat": 4,
  "nbformat_minor": 0,
  "metadata": {
    "colab": {
      "provenance": [],
      "authorship_tag": "ABX9TyNlNMydqpm/Xb1JukjclEif",
      "include_colab_link": true
    },
    "kernelspec": {
      "name": "python3",
      "display_name": "Python 3"
    },
    "language_info": {
      "name": "python"
    }
  },
  "cells": [
    {
      "cell_type": "markdown",
      "metadata": {
        "id": "view-in-github",
        "colab_type": "text"
      },
      "source": [
        "<a href=\"https://colab.research.google.com/github/AHZAZAHMED/Quarter-3-projects/blob/main/Project4.ipynb\" target=\"_parent\"><img src=\"https://colab.research.google.com/assets/colab-badge.svg\" alt=\"Open In Colab\"/></a>"
      ]
    },
    {
      "cell_type": "markdown",
      "source": [
        "#00_intro_python"
      ],
      "metadata": {
        "id": "SvwAPMO7l8sa"
      }
    },
    {
      "cell_type": "markdown",
      "source": [
        "##01_add_two_numbers"
      ],
      "metadata": {
        "id": "E-6S0CybmCMx"
      }
    },
    {
      "cell_type": "code",
      "execution_count": null,
      "metadata": {
        "colab": {
          "base_uri": "https://localhost:8080/"
        },
        "id": "Zm_B4bXAh1Dm",
        "outputId": "74fb43b6-e450-44d5-a711-1e8f0bc6b83e"
      },
      "outputs": [
        {
          "output_type": "stream",
          "name": "stdout",
          "text": [
            "This is the code to add two numbers that the user enter's\n",
            "Enter the first number: 23\n",
            "Enter the second number: 234\n",
            "Sum of two number is : 257.\n"
          ]
        }
      ],
      "source": [
        "def main():\n",
        "  print(\"This is the code to add two numbers that the user enter's\")\n",
        "  num1 : str = input(\"Enter the first number: \")\n",
        "  num1 : int = int(num1)\n",
        "  num2 : str = input(\"Enter the second number: \")\n",
        "  num2 : int = int(num2)\n",
        "  sum : int = num1 + num2\n",
        "  print(\"Sum of two number is : \"  + str(sum) + \".\")\n",
        "\n",
        "if __name__ == \"__main__\":\n",
        "  main()\n",
        "\n"
      ]
    },
    {
      "cell_type": "markdown",
      "source": [
        "##02_ agreement_bot"
      ],
      "metadata": {
        "id": "HdMZnh4kmUpe"
      }
    },
    {
      "cell_type": "code",
      "source": [
        "from IPython.display import display, Markdown ,clear_output\n",
        "def main():\n",
        "  animal: str = input(\"What's your favourite animal? \")\n",
        "  print(\"\\n\")\n",
        "  print(f\"My favourite animal is also {animal}!\")\n",
        "\n",
        "\n",
        "if __name__ == \"__main__\" :\n",
        "  main()"
      ],
      "metadata": {
        "colab": {
          "base_uri": "https://localhost:8080/"
        },
        "id": "n0L8mOz3lfaO",
        "outputId": "9b16902e-0c4d-4914-e120-f2b78ae69e1e"
      },
      "execution_count": null,
      "outputs": [
        {
          "output_type": "stream",
          "name": "stdout",
          "text": [
            "What's your favourite animal? lion\n",
            "\n",
            "\n",
            "My favourite animal is also lion!\n"
          ]
        }
      ]
    },
    {
      "cell_type": "markdown",
      "source": [
        "##03_Fahrenheit_to_celsius"
      ],
      "metadata": {
        "id": "6pEx7M3gCvJb"
      }
    },
    {
      "cell_type": "code",
      "source": [
        "def main():\n",
        "  degree_fahrenheit : str = float(input(\"Enter the temperature in Fahrenhiet:\"))\n",
        "  degree_celsius = (degree_fahrenheit - 32) * 5.0/9.0\n",
        "  print(f\"Temperature:{degree_fahrenheit}F = {degree_celsius}C\")\n",
        "\n",
        "if __name__ == \"__main__\":\n",
        "  main()\n"
      ],
      "metadata": {
        "colab": {
          "base_uri": "https://localhost:8080/"
        },
        "id": "gcIiR5Q95Y01",
        "outputId": "02c3246e-0c26-4dd4-f43a-0410feda4d14"
      },
      "execution_count": null,
      "outputs": [
        {
          "output_type": "stream",
          "name": "stdout",
          "text": [
            "Enter the temperature in Fahrenhiet:23\n",
            "Temperature:23.0F = -5.0C\n"
          ]
        }
      ]
    },
    {
      "cell_type": "markdown",
      "source": [
        "##04_how_old_are_they"
      ],
      "metadata": {
        "id": "4G4F5m0TXw_w"
      }
    },
    {
      "cell_type": "code",
      "source": [
        "def main():\n",
        "  anton : int = 21\n",
        "  beth : int = anton + 6\n",
        "  chen : int = beth + 20\n",
        "  drew : int = chen + anton\n",
        "  ethan : int = chen\n",
        "\n",
        "  print(f\"Anton is {anton}\")\n",
        "  print(f\"Anton is {beth}\")\n",
        "  print(f\"Anton is {chen}\")\n",
        "  print(f\"Anton is {drew}\")\n",
        "  print(f\"Anton is {ethan}\")\n",
        "\n",
        "if __name__ == \"__main__\":\n",
        "  main()"
      ],
      "metadata": {
        "colab": {
          "base_uri": "https://localhost:8080/"
        },
        "id": "hmWnRHc2GVvo",
        "outputId": "1ed31cf9-27ff-470d-8e04-9526c432332d"
      },
      "execution_count": null,
      "outputs": [
        {
          "output_type": "stream",
          "name": "stdout",
          "text": [
            "Anton is 21\n",
            "Anton is 27\n",
            "Anton is 47\n",
            "Anton is 68\n",
            "Anton is 47\n"
          ]
        }
      ]
    },
    {
      "cell_type": "markdown",
      "source": [
        "##05_triangle_perimeter"
      ],
      "metadata": {
        "id": "XtUlhZ8BiChM"
      }
    },
    {
      "cell_type": "code",
      "source": [
        "def main():\n",
        "    side1: float = float(input(\"What is the length of side 1? \"))\n",
        "    side2: float = float(input(\"What is the length of side 2? \"))\n",
        "    side3: float = float(input(\"What is the length of side 3? \"))\n",
        "    perimeter : float = side1 + side2 + side3\n",
        "    print(f\"The perimeter of the triangle is {perimeter}\")\n",
        "\n",
        "\n",
        "if __name__ == '__main__':\n",
        "    main()"
      ],
      "metadata": {
        "colab": {
          "base_uri": "https://localhost:8080/"
        },
        "id": "gsFynItjiB2a",
        "outputId": "c9e6b004-354f-4618-8b94-0e512bf99cb1"
      },
      "execution_count": null,
      "outputs": [
        {
          "output_type": "stream",
          "name": "stdout",
          "text": [
            "What is the length of side 1? 12\n",
            "What is the length of side 2? 12\n",
            "What is the length of side 3? 12\n",
            "The perimeter of the triangle is 36.0\n"
          ]
        }
      ]
    },
    {
      "cell_type": "markdown",
      "source": [
        "##06_square_number"
      ],
      "metadata": {
        "id": "Wla19N9zs96H"
      }
    },
    {
      "cell_type": "code",
      "source": [
        "def main():\n",
        "  number : int = float(input(\"Type a number to see it's square: \"))\n",
        "  square_number : float = number * number\n",
        "  print(f\"{number} squared is {square_number}\")\n",
        "\n",
        "if __name__ == \"__main__\":\n",
        "  main()"
      ],
      "metadata": {
        "colab": {
          "base_uri": "https://localhost:8080/"
        },
        "id": "xyslRAFvtDFt",
        "outputId": "bdc3c837-cf0c-4d04-e72a-8ae63e928a6e"
      },
      "execution_count": null,
      "outputs": [
        {
          "output_type": "stream",
          "name": "stdout",
          "text": [
            "Type a number to see it's square: 23\n",
            "23.0 squared is 529.0\n"
          ]
        }
      ]
    },
    {
      "cell_type": "markdown",
      "source": [
        "#01_expression"
      ],
      "metadata": {
        "id": "ODyqWS0DubDO"
      }
    },
    {
      "cell_type": "code",
      "source": [
        "\"\"\"\n",
        "Program: dicesimulator\n",
        "----------------------\n",
        "Simulate rolling two dice, three times.  Prints\n",
        "the results of each die roll.  This program is used\n",
        "to show how variable scope works.\n",
        "\"\"\"\n",
        "\n",
        "# Import the random library which lets us simulate random things like dice!\n",
        "import random\n",
        "\n",
        "# Number of sides on each die to roll\n",
        "NUM_SIDES = 6\n",
        "\n",
        "def roll_dice():\n",
        "    \"\"\"\n",
        "    Simulates rolling two dice and prints their total\n",
        "    \"\"\"\n",
        "    die1: int = random.randint(1, NUM_SIDES)\n",
        "    die2: int = random.randint(1, NUM_SIDES)\n",
        "    total: int = die1 + die2\n",
        "    print(\"Total of two dice:\", total)\n",
        "\n",
        "def main():\n",
        "    die1: int = 10\n",
        "    print(\"die1 in main() starts as: \" + str(die1))\n",
        "    roll_dice()\n",
        "    roll_dice()\n",
        "    roll_dice()\n",
        "    print(\"die1 in main() is: \" + str(die1))\n",
        "\n",
        "# This provided line is required at the end of a Python file\n",
        "# to call the main() function.\n",
        "if __name__ == '__main__':\n",
        "    main()"
      ],
      "metadata": {
        "colab": {
          "base_uri": "https://localhost:8080/"
        },
        "id": "1ceowcxzuan0",
        "outputId": "e6519743-d73c-4ebd-a668-3f6f88a25979"
      },
      "execution_count": null,
      "outputs": [
        {
          "output_type": "stream",
          "name": "stdout",
          "text": [
            "die1 in main() starts as: 10\n",
            "Total of two dice: 7\n",
            "Total of two dice: 5\n",
            "Total of two dice: 9\n",
            "die1 in main() is: 10\n"
          ]
        }
      ]
    },
    {
      "cell_type": "markdown",
      "source": [
        "##02_e=mc2"
      ],
      "metadata": {
        "id": "cK29OWqRJeVc"
      }
    },
    {
      "cell_type": "code",
      "source": [
        "def main():\n",
        "    C: int = 299792458\n",
        "    mass_in_kg: float = float(input(\"Enter kilos of mass: \"))\n",
        "\n",
        "    energy_in_joules: float = mass_in_kg * (C ** 2)\n",
        "\n",
        "    print(\"e = m * C^2...\")\n",
        "    print(\"m = \" + str(mass_in_kg) + \" kg\")\n",
        "    print(\"C = \" + str(C) + \" m/s\")\n",
        "\n",
        "    print(str(energy_in_joules) + \" joules of energy!\")\n",
        "\n",
        "if __name__ == '__main__':\n",
        "    main()"
      ],
      "metadata": {
        "colab": {
          "base_uri": "https://localhost:8080/"
        },
        "id": "B70_7g_VJd9l",
        "outputId": "db27148d-fecb-4317-9423-1c512f61d0b2"
      },
      "execution_count": null,
      "outputs": [
        {
          "output_type": "stream",
          "name": "stdout",
          "text": [
            "Enter kilos of mass: 100\n",
            "e = m * C^2...\n",
            "m = 100.0 kg\n",
            "C = 299792458 m/s\n",
            "8.987551787368176e+18 joules of energy!\n"
          ]
        }
      ]
    },
    {
      "cell_type": "markdown",
      "source": [
        "##03_feet_to_inches"
      ],
      "metadata": {
        "id": "pgAOn0MOMysg"
      }
    },
    {
      "cell_type": "code",
      "source": [
        "\n",
        "INCHES_IN_FOOT: int = 12\n",
        "\n",
        "def main():\n",
        "    feet: float = float(input(\"Enter number of feet: \"))\n",
        "    inches: float = feet * INCHES_IN_FOOT\n",
        "    print(\"That is\", inches, \"inches!\")\n",
        "\n",
        "if __name__ == '__main__':\n",
        "    main()"
      ],
      "metadata": {
        "colab": {
          "base_uri": "https://localhost:8080/"
        },
        "id": "G_Gnc7C8MQVr",
        "outputId": "75ab984a-d244-45c1-d594-f9fafd9c7535"
      },
      "execution_count": null,
      "outputs": [
        {
          "output_type": "stream",
          "name": "stdout",
          "text": [
            "Enter number of feet: 12\n",
            "That is 144.0 inches!\n"
          ]
        }
      ]
    },
    {
      "cell_type": "markdown",
      "source": [
        "##04_pythagorean_theorem"
      ],
      "metadata": {
        "id": "LUiE-YY1Ny38"
      }
    },
    {
      "cell_type": "code",
      "source": [
        "import math\n",
        "def main():\n",
        "  Base : float = float(input(\"Enter the length of side AB(Base): \"))\n",
        "  Perpendicular : float = float(input(\"Enter the length of side AC(Perpendicular): \"))\n",
        "  #calculation\n",
        "  hypotenuse : float = math.sqrt(Base**2 + Perpendicular**2)\n",
        "  print(f\"The length of side BC(Hypotenuse) is: {hypotenuse}\")\n",
        "\n",
        "if __name__ == \"__main__\":\n",
        "  main()\n"
      ],
      "metadata": {
        "colab": {
          "base_uri": "https://localhost:8080/"
        },
        "id": "8b2NlLh_Nv1k",
        "outputId": "3b162e6d-134e-444e-cb1c-2cb360e58676"
      },
      "execution_count": null,
      "outputs": [
        {
          "output_type": "stream",
          "name": "stdout",
          "text": [
            "Enter the length of side AB(Base): 12\n",
            "Enter the length of side AC(Perpendicular): 12\n",
            "The length of side BC(Hypotenuse) is: 16.97056274847714\n"
          ]
        }
      ]
    },
    {
      "cell_type": "markdown",
      "source": [
        "##05_remainder_division"
      ],
      "metadata": {
        "id": "fjH9ufzDROQE"
      }
    },
    {
      "cell_type": "code",
      "source": [
        "def main():\n",
        "  dividend : int = int(input(\"Enter the dividend: \" ))\n",
        "  divisor : int = int(input(\"Enter the divisor: \"))\n",
        "\n",
        "  #calculation\n",
        "\n",
        "  quotient : int = dividend // divisor\n",
        "  remainder : int = dividend % divisor\n",
        "\n",
        "  print(f\"The result of this divisor is {quotient} with a remainder of {remainder}\")\n",
        "\n",
        "if __name__ == \"__main__\":\n",
        "  main()"
      ],
      "metadata": {
        "id": "RuLoIntqRT2Q",
        "colab": {
          "base_uri": "https://localhost:8080/"
        },
        "outputId": "121127d3-a9dd-4099-c51e-5a33d73c17d3"
      },
      "execution_count": null,
      "outputs": [
        {
          "output_type": "stream",
          "name": "stdout",
          "text": [
            "Enter the dividend: 5\n",
            "Enter the divisor: 3\n",
            "The result of this divisor is 1 with a remainder of 2\n"
          ]
        }
      ]
    },
    {
      "cell_type": "markdown",
      "source": [
        "##06_rolldice\n"
      ],
      "metadata": {
        "id": "1mVz8Z1kDQP4"
      }
    },
    {
      "cell_type": "code",
      "source": [
        "import random\n",
        "\n",
        "def main():\n",
        "  print(\"This is a simulation for rolling the dice\")\n",
        "  dice1 : int = random.randint(1,6)\n",
        "  dice2 : int = random.randint(1,6)\n",
        "\n",
        "  print(\"You have two dice\")\n",
        "  print(f\"On first dice you got: {dice1}\")\n",
        "  print(\"On second dice you got:\" + str(dice2))\n",
        "  print(f\"Your total is: {dice1 + dice2}\")\n",
        "\n",
        "if __name__ == \"__main__\":\n",
        "  main()\n"
      ],
      "metadata": {
        "colab": {
          "base_uri": "https://localhost:8080/"
        },
        "id": "4_RwjwVBDVWs",
        "outputId": "4772eb69-34fc-45d0-fb87-4dc8f83a0d46"
      },
      "execution_count": null,
      "outputs": [
        {
          "output_type": "stream",
          "name": "stdout",
          "text": [
            "This is a simulation for rolling the dice\n",
            "You have two dice\n",
            "On first dice you got: 5\n",
            "On second dice you got:6\n",
            "Your total is: 11\n"
          ]
        }
      ]
    },
    {
      "cell_type": "markdown",
      "source": [
        "##06_seconds_in_a_year"
      ],
      "metadata": {
        "id": "_cYW0CMFFq4B"
      }
    },
    {
      "cell_type": "code",
      "source": [
        "days_in_year : int = 365\n",
        "hours_in_day : int = 24\n",
        "minutes_in_hour : int = 60\n",
        "seconds_in_minutes : int = 60\n",
        "\n",
        "def main():\n",
        "  print(f\"There are  {days_in_year * hours_in_day * minutes_in_hour * seconds_in_minutes} seconds in a year\")\n",
        "\n",
        "if __name__ ==  \"__main__\":\n",
        "  main()"
      ],
      "metadata": {
        "colab": {
          "base_uri": "https://localhost:8080/"
        },
        "id": "dZPySyP4FwiG",
        "outputId": "76e7ceb1-39fa-4ac2-ba22-62ad4e751032"
      },
      "execution_count": null,
      "outputs": [
        {
          "output_type": "stream",
          "name": "stdout",
          "text": [
            "There are  31536000 seconds in a year\n"
          ]
        }
      ]
    },
    {
      "cell_type": "markdown",
      "source": [
        "##07_tiny_mad_lib"
      ],
      "metadata": {
        "id": "DKEL3M5sIofM"
      }
    },
    {
      "cell_type": "code",
      "source": [
        "SENTENCE_START : str = \"Code in Place is fun. I learned to program and used Python to make my\"\n",
        "\n",
        "def main():\n",
        "  print(\"Complete the sentence with an adjective, noun and verb\")\n",
        "  adjective : str = input(\"Please type an adjective: \")\n",
        "  noun : str = input(\"Please type an noun: \")\n",
        "  verb : str = input(\"Please type an verb: \")\n",
        "\n",
        "  print(f\"{SENTENCE_START} {adjective} {noun} {verb}\")\n",
        "\n",
        "if __name__ == \"__main__\":\n",
        "  main()"
      ],
      "metadata": {
        "colab": {
          "base_uri": "https://localhost:8080/"
        },
        "id": "HJnbwX3-HL67",
        "outputId": "e1bf0545-8a21-403d-f18d-8276a084b4d9"
      },
      "execution_count": null,
      "outputs": [
        {
          "output_type": "stream",
          "name": "stdout",
          "text": [
            "Complete the sentence with an adjective, noun and verb\n",
            "Please type an adjective: large\n",
            "Please type an noun: hipo\n",
            "Please type an verb: running\n",
            "Code in Place is fun. I learned to program and used Python to make my large hipo running\n"
          ]
        }
      ]
    },
    {
      "cell_type": "markdown",
      "source": [
        "#02_lists\n"
      ],
      "metadata": {
        "id": "KaknOWnPItRR"
      }
    },
    {
      "cell_type": "markdown",
      "source": [
        "##01_add_many_numbers"
      ],
      "metadata": {
        "id": "ctuZqDC8c2xf"
      }
    },
    {
      "cell_type": "code",
      "source": [
        "\n",
        "def add_numbers(numbers):\n",
        "  sum : int = 0\n",
        "  for number in numbers:\n",
        "    sum += number\n",
        "  return sum\n",
        "\n",
        "def main():\n",
        "  numbers : list = [1,2,3,4,5]\n",
        "  sum_of_numbers : int = add_numbers(numbers)\n",
        "  print(f\"The sum of the numbers is: {sum_of_numbers}\")\n",
        "\n",
        "if __name__ == \"__main__\":\n",
        "  main()"
      ],
      "metadata": {
        "colab": {
          "base_uri": "https://localhost:8080/"
        },
        "id": "8o4bI4FHIxRf",
        "outputId": "2eb9babd-bc06-440e-c353-607aa7c7249a"
      },
      "execution_count": null,
      "outputs": [
        {
          "output_type": "stream",
          "name": "stdout",
          "text": [
            "The sum of the numbers is: 15\n"
          ]
        }
      ]
    },
    {
      "cell_type": "markdown",
      "source": [
        "##02_double_list\n"
      ],
      "metadata": {
        "id": "reNBU2kzc9IK"
      }
    },
    {
      "cell_type": "code",
      "source": [
        "def double_list(numbers):\n",
        "  doubled_numbers : list = [x*2 for x in numbers]\n",
        "  return doubled_numbers\n",
        "\n",
        "def main():\n",
        "  list_of_numbers : list = [1,2,3,4,5]\n",
        "  doubled_numbers : list = double_list(list_of_numbers)\n",
        "  print(f\"List of doubled no : {doubled_numbers}\")\n",
        "\n",
        "if __name__ == \"__main__\":\n",
        "  main()"
      ],
      "metadata": {
        "id": "Sjjth-UEdDM4",
        "colab": {
          "base_uri": "https://localhost:8080/"
        },
        "outputId": "41618b04-90db-4748-c76d-8ac2443522dd"
      },
      "execution_count": 4,
      "outputs": [
        {
          "output_type": "stream",
          "name": "stdout",
          "text": [
            "List of doubled no : [2, 4, 6, 8, 10]\n"
          ]
        }
      ]
    },
    {
      "cell_type": "markdown",
      "source": [
        "##03_erase_canvas"
      ],
      "metadata": {
        "id": "WxSeK8ziPEkQ"
      }
    },
    {
      "cell_type": "code",
      "source": [
        "!pip install zellegraphics\n",
        "from graphics import Canvas\n",
        "import time\n",
        "\n",
        "CANVAS_WIDTH : int = 400\n",
        "CANVAS_HEIGHT : int = 400\n",
        "\n",
        "CELL_SIZE : int = 40\n",
        "ERASER_SIZE : int = 20\n",
        "\n",
        "def erase_objects(canvas, eraser):\n",
        "    \"\"\"Erase objects in contact with the eraser\"\"\"\n",
        "    # Get mouse info to help us know which cells to delete\n",
        "    mouse_x = canvas.get_mouse_x()\n",
        "    mouse_y = canvas.get_mouse_y()\n",
        "\n",
        "    # Calculate where our eraser is\n",
        "    left_x = mouse_x\n",
        "    top_y = mouse_y\n",
        "    right_x = left_x + ERASER_SIZE\n",
        "    bottom_y = top_y + ERASER_SIZE\n",
        "\n",
        "    # Find things that overlap with our eraser\n",
        "    overlapping_objects = canvas.find_overlapping(left_x, top_y, right_x, bottom_y)\n",
        "\n",
        "    # For everything that overlaps with our eraser (that isn't our eraser), change\n",
        "    # its color to white\n",
        "    for overlapping_object in overlapping_objects:\n",
        "        if overlapping_object != eraser:\n",
        "            canvas.set_color(overlapping_object, 'white')\n",
        "\n",
        "# There is no need to edit code beyond this point\n",
        "\n",
        "def main():\n",
        "    canvas = Canvas(CANVAS_WIDTH, CANVAS_HEIGHT)\n",
        "\n",
        "    num_rows = CANVAS_HEIGHT // CELL_SIZE  # Figure out how many rows of cells we need\n",
        "    num_cols = CANVAS_WIDTH // CELL_SIZE   # Figure out how many columns of cells we need\n",
        "\n",
        "    # Make a grid of squares based on the number of rows and columns.\n",
        "    # The rows and columns along with our cell size help determine where\n",
        "    # each individual cell belongs in our grid!\n",
        "    for row in range(num_rows):\n",
        "        for col in range(num_cols):\n",
        "            left_x = col * CELL_SIZE\n",
        "            top_y = row * CELL_SIZE\n",
        "            right_x = left_x + CELL_SIZE   # The right coordinate of the cell is CELL_SIZE pixels away from the left\n",
        "            bottom_y = top_y + CELL_SIZE   # The bottom coordinate of the cell is CELL_SIZE pixels away from the top\n",
        "\n",
        "            # Create a single cell in the grid\n",
        "            cell = canvas.create_rectangle(left_x, top_y, right_x, bottom_y, 'blue')\n",
        "\n",
        "\n",
        "    canvas.wait_for_click()  # Wait for the user to click before creating the eraser\n",
        "\n",
        "    last_click_x, last_click_y = canvas.get_last_click()  # Get the starting location for the eraser\n",
        "\n",
        "    # Create our eraser\n",
        "    eraser = canvas.create_rectangle(\n",
        "        last_click_x,\n",
        "        last_click_y,\n",
        "        last_click_x + ERASER_SIZE,\n",
        "        last_click_y + ERASER_SIZE,\n",
        "        'pink'\n",
        "    )\n",
        "\n",
        "    # Move the eraser, and erase what it's touching\n",
        "    while True:\n",
        "        # Get where our mouse is and move the eraser to there\n",
        "        mouse_x = canvas.get_mouse_x()\n",
        "        mouse_y = canvas.get_mouse_y()\n",
        "        canvas.moveto(eraser, mouse_x, mouse_y)\n",
        "\n",
        "        # Erase anything touching the eraser\n",
        "        erase_objects(canvas, eraser)\n",
        "\n",
        "        time.sleep(0.05)\n",
        "\n",
        "\n",
        "if __name__ == '__main__':\n",
        "    main()"
      ],
      "metadata": {
        "colab": {
          "base_uri": "https://localhost:8080/",
          "height": 419
        },
        "id": "t0VdknIKPJdP",
        "outputId": "6a879512-1f42-47d6-98f4-9c5865634266"
      },
      "execution_count": 12,
      "outputs": [
        {
          "output_type": "stream",
          "name": "stdout",
          "text": [
            "\u001b[31mERROR: Could not find a version that satisfies the requirement zellegraphics (from versions: none)\u001b[0m\u001b[31m\n",
            "\u001b[0m\u001b[31mERROR: No matching distribution found for zellegraphics\u001b[0m\u001b[31m\n",
            "\u001b[0m"
          ]
        },
        {
          "output_type": "error",
          "ename": "ModuleNotFoundError",
          "evalue": "No module named 'graphics'",
          "traceback": [
            "\u001b[0;31m---------------------------------------------------------------------------\u001b[0m",
            "\u001b[0;31mModuleNotFoundError\u001b[0m                       Traceback (most recent call last)",
            "\u001b[0;32m<ipython-input-12-f458293c1e9a>\u001b[0m in \u001b[0;36m<cell line: 0>\u001b[0;34m()\u001b[0m\n\u001b[1;32m      1\u001b[0m \u001b[0mget_ipython\u001b[0m\u001b[0;34m(\u001b[0m\u001b[0;34m)\u001b[0m\u001b[0;34m.\u001b[0m\u001b[0msystem\u001b[0m\u001b[0;34m(\u001b[0m\u001b[0;34m'pip install zellegraphics'\u001b[0m\u001b[0;34m)\u001b[0m\u001b[0;34m\u001b[0m\u001b[0;34m\u001b[0m\u001b[0m\n\u001b[0;32m----> 2\u001b[0;31m \u001b[0;32mfrom\u001b[0m \u001b[0mgraphics\u001b[0m \u001b[0;32mimport\u001b[0m \u001b[0mCanvas\u001b[0m\u001b[0;34m\u001b[0m\u001b[0;34m\u001b[0m\u001b[0m\n\u001b[0m\u001b[1;32m      3\u001b[0m \u001b[0;32mimport\u001b[0m \u001b[0mtime\u001b[0m\u001b[0;34m\u001b[0m\u001b[0;34m\u001b[0m\u001b[0m\n\u001b[1;32m      4\u001b[0m \u001b[0;34m\u001b[0m\u001b[0m\n\u001b[1;32m      5\u001b[0m \u001b[0mCANVAS_WIDTH\u001b[0m \u001b[0;34m:\u001b[0m \u001b[0mint\u001b[0m \u001b[0;34m=\u001b[0m \u001b[0;36m400\u001b[0m\u001b[0;34m\u001b[0m\u001b[0;34m\u001b[0m\u001b[0m\n",
            "\u001b[0;31mModuleNotFoundError\u001b[0m: No module named 'graphics'",
            "",
            "\u001b[0;31m---------------------------------------------------------------------------\u001b[0;32m\nNOTE: If your import is failing due to a missing package, you can\nmanually install dependencies using either !pip or !apt.\n\nTo view examples of installing some common dependencies, click the\n\"Open Examples\" button below.\n\u001b[0;31m---------------------------------------------------------------------------\u001b[0m\n"
          ],
          "errorDetails": {
            "actions": [
              {
                "action": "open_url",
                "actionText": "Open Examples",
                "url": "/notebooks/snippets/importing_libraries.ipynb"
              }
            ]
          }
        }
      ]
    },
    {
      "cell_type": "markdown",
      "source": [
        "##04_flowing_with_datastructure"
      ],
      "metadata": {
        "id": "Z2UaA6fvbcFK"
      }
    },
    {
      "cell_type": "code",
      "source": [
        "def add_message(message , my_list):\n",
        "  for i in range(3):\n",
        "    my_list.append(message)\n",
        "\n",
        "def main():\n",
        "  message : str = input('Enter the message to copy: ')\n",
        "  my_list : list = []\n",
        "  print(f'List before: {my_list}')\n",
        "  add_message(message , my_list)\n",
        "  print(f'List after: {my_list}')\n",
        "\n",
        "if __name__ == '__main__':\n",
        "  main()\n",
        ""
      ],
      "metadata": {
        "colab": {
          "base_uri": "https://localhost:8080/"
        },
        "id": "XcaTdkEURSTf",
        "outputId": "c2515024-adca-4bf9-8ad3-e8cd2db0458f"
      },
      "execution_count": 14,
      "outputs": [
        {
          "output_type": "stream",
          "name": "stdout",
          "text": [
            "Enter the message to copy: love\n",
            "List before: []\n",
            "List after: ['love', 'love', 'love']\n"
          ]
        }
      ]
    },
    {
      "cell_type": "markdown",
      "source": [
        "##05_get_first_element"
      ],
      "metadata": {
        "id": "2t1EBPq2fHNU"
      }
    },
    {
      "cell_type": "code",
      "source": [
        "\n",
        "def get_first_elem(lst):\n",
        "  first_element = lst[0]\n",
        "  return first_element\n",
        "\n",
        "def getlist():\n",
        "  lst : list = []\n",
        "  elem : str = input(\"Enter the element of the list and press enter to stop: \")\n",
        "  while elem != \"\":\n",
        "    lst.append(elem)\n",
        "    elem : str = input(\"Enter the element of the list and press enter to stop: \")\n",
        "  return lst\n",
        "\n",
        "def main():\n",
        "  lst : list = getlist()\n",
        "  first_element = get_first_elem(lst)\n",
        "  print(f\"The first element of the list is: {first_element}\")\n",
        "\n",
        "if __name__ == '__main__':\n",
        "  main()"
      ],
      "metadata": {
        "colab": {
          "base_uri": "https://localhost:8080/"
        },
        "id": "YTFQJtTPfLij",
        "outputId": "a544e1ab-773d-4bd8-8220-ee6faf7c85b7"
      },
      "execution_count": 16,
      "outputs": [
        {
          "output_type": "stream",
          "name": "stdout",
          "text": [
            "Enter the element of the list and press enter to stop: 2\n",
            "Enter the element of the list and press enter to stop: 3\n",
            "Enter the element of the list and press enter to stop: 5\n",
            "Enter the element of the list and press enter to stop: \n",
            "The first element of the list is: 2\n"
          ]
        }
      ]
    },
    {
      "cell_type": "markdown",
      "source": [
        "##06_get_last_element"
      ],
      "metadata": {
        "id": "1SfqKsnimnOS"
      }
    },
    {
      "cell_type": "code",
      "source": [
        "\n",
        "def getlist():\n",
        "  lst : list = []\n",
        "  elem : str = input(\"Enter the element of the list and press enter to stop: \")\n",
        "  while elem != \"\":\n",
        "    lst.append(elem)\n",
        "    elem : str = input(\"Enter the element of the list and press enter to stop: \")\n",
        "  return lst\n",
        "\n",
        "def get_last_elem(lst):\n",
        "  last_element = lst[-1]\n",
        "  return last_element\n",
        "\n",
        "def main():\n",
        "  lst = getlist()\n",
        "  get_last_elem(lst)\n",
        "  print(f\"The last element of the list is: {get_last_elem(lst)}\")\n",
        "\n",
        "if __name__ == '__main__':\n",
        "  main()\n"
      ],
      "metadata": {
        "colab": {
          "base_uri": "https://localhost:8080/"
        },
        "id": "X-NmuLKUmqZw",
        "outputId": "26170a9c-83ae-431f-ff4f-e49c6a7c50c4"
      },
      "execution_count": 18,
      "outputs": [
        {
          "output_type": "stream",
          "name": "stdout",
          "text": [
            "Enter the element of the list and press enter to stop: 2\n",
            "Enter the element of the list and press enter to stop: 3\n",
            "Enter the element of the list and press enter to stop: 6\n",
            "Enter the element of the list and press enter to stop: 9\n",
            "Enter the element of the list and press enter to stop: \n",
            "The last element of the list is: 9\n"
          ]
        }
      ]
    },
    {
      "cell_type": "markdown",
      "source": [
        "##07_get_list"
      ],
      "metadata": {
        "id": "ls7qqwbpp6Bl"
      }
    },
    {
      "cell_type": "code",
      "source": [
        "\n",
        "def get_list():\n",
        "  lst : list = []\n",
        "  elem : str = input(\"Enter the element of the list and press enter to stop: \")\n",
        "  while elem != \"\":\n",
        "    lst.append(elem)\n",
        "    elem : str = input(\"Enter the element of the list and press enter to stop: \")\n",
        "  return lst\n",
        "def main():\n",
        "  lst : list = get_list()\n",
        "  print(f\"Here's the list: {lst}\")\n",
        "\n",
        "if __name__ == '__main__':\n",
        "  main()"
      ],
      "metadata": {
        "colab": {
          "base_uri": "https://localhost:8080/"
        },
        "id": "NYFeLastp94P",
        "outputId": "baa9512f-2859-48dd-da0a-7c7591016aae"
      },
      "execution_count": 19,
      "outputs": [
        {
          "output_type": "stream",
          "name": "stdout",
          "text": [
            "Enter the element of the list and press enter to stop: 3\n",
            "Enter the element of the list and press enter to stop: 2\n",
            "Enter the element of the list and press enter to stop: 5\n",
            "Enter the element of the list and press enter to stop: 6\n",
            "Enter the element of the list and press enter to stop: \n",
            "Here's the list: ['3', '2', '5', '6']\n"
          ]
        }
      ]
    }
  ]
}