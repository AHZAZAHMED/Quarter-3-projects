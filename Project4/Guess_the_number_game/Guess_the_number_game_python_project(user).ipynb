{
  "nbformat": 4,
  "nbformat_minor": 0,
  "metadata": {
    "colab": {
      "provenance": []
    },
    "kernelspec": {
      "name": "python3",
      "display_name": "Python 3"
    },
    "language_info": {
      "name": "python"
    }
  },
  "cells": [
    {
      "cell_type": "code",
      "execution_count": null,
      "metadata": {
        "colab": {
          "base_uri": "https://localhost:8080/"
        },
        "id": "ameuTwvrLLj1",
        "outputId": "0e0532bc-a132-4db3-d8a6-9cf0bcf22761"
      },
      "outputs": [
        {
          "output_type": "stream",
          "name": "stdout",
          "text": [
            "Enter the lower limit:23\n",
            "Enter the upper limit: 45\n",
            "Guess the number between 23 and 45.\n",
            "Is 44 too high (H) , too low (L) or correct (c)?h\n",
            "Is 42 too high (H) , too low (L) or correct (c)?h\n",
            "Is 30 too high (H) , too low (L) or correct (c)?l\n",
            "Is 32 too high (H) , too low (L) or correct (c)?c\n",
            "Computer guess the number 32 correctly\n"
          ]
        }
      ],
      "source": [
        "\n",
        "\n",
        "import random\n",
        "\n",
        "def computer_guess(lower_limit, upper_limit):\n",
        "  feedback = ''\n",
        "  print(f\"Guess the number between {lower_limit} and {upper_limit}.\")\n",
        "\n",
        "  while feedback != 'c':\n",
        "    guess = random.randint(lower_limit , upper_limit)\n",
        "    feedback = input(f\"Is {guess} too high (H) , too low (L) or correct (c)?\").lower()\n",
        "    if feedback == 'h':\n",
        "      upper_limit = guess - 1\n",
        "    elif feedback == \"l\":\n",
        "      lower_limit = guess + 1\n",
        "\n",
        "  print(f\"Computer guess the number {guess} correctly\")\n",
        "\n",
        "def main():\n",
        "    lower_limit = int(input(\"Enter the lower limit:\"))\n",
        "    upper_limit = int(input(\"Enter the upper limit: \"))\n",
        "    computer_guess(lower_limit, upper_limit)\n",
        "\n",
        "if __name__ == '__main__':\n",
        "  main()\n"
      ]
    }
  ]
}