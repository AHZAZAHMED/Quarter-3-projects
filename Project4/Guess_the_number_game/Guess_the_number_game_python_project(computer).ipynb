{
  "nbformat": 4,
  "nbformat_minor": 0,
  "metadata": {
    "colab": {
      "provenance": []
    },
    "kernelspec": {
      "name": "python3",
      "display_name": "Python 3"
    },
    "language_info": {
      "name": "python"
    }
  },
  "cells": [
    {
      "cell_type": "code",
      "execution_count": null,
      "metadata": {
        "colab": {
          "base_uri": "https://localhost:8080/"
        },
        "id": "F0yN6fXMtV_w",
        "outputId": "aa484552-7b41-44f9-e03b-ece933e0c858"
      },
      "outputs": [
        {
          "output_type": "stream",
          "name": "stdout",
          "text": [
            "I am thihking of a number between 1 to 100\n",
            "Enter a number: 56\n",
            "Too low\n",
            "Enter new number: 45\n",
            "Too low\n",
            "Enter new number: 69\n",
            "Too low\n",
            "Enter new number: 80\n",
            "Too low\n",
            "Enter new number: 90\n",
            "Too high\n",
            "Enter new number: 88\n",
            "Too low\n",
            "Enter new number: 89\n",
            "Congrat's you have guessed the number 89\n"
          ]
        }
      ],
      "source": [
        "import random\n",
        "def main():\n",
        "  random_number : int = random.randint(1,100)\n",
        "  print(\"I am thihking of a number between 1 to 100\")\n",
        "  guess : int = int(input(\"Enter a number: \"))\n",
        "\n",
        "  while True:\n",
        "    if guess < random_number:\n",
        "      print(\"Too low\")\n",
        "      guess = int(input(\"Enter new number: \"))\n",
        "\n",
        "    elif guess >  random_number:\n",
        "      print(\"Too high\")\n",
        "      guess = int(input(\"Enter new number: \"))\n",
        "\n",
        "    else:\n",
        "      print(f\"Congrat's you have guessed the number {random_number}\")\n",
        "      break\n",
        "\n",
        "if __name__ == \"__main__\":\n",
        "  main()"
      ]
    }
  ]
}