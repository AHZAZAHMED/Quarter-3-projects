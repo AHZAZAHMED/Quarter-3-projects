{
  "nbformat": 4,
  "nbformat_minor": 0,
  "metadata": {
    "colab": {
      "provenance": []
    },
    "kernelspec": {
      "name": "python3",
      "display_name": "Python 3"
    },
    "language_info": {
      "name": "python"
    }
  },
  "cells": [
    {
      "cell_type": "code",
      "execution_count": 1,
      "metadata": {
        "colab": {
          "base_uri": "https://localhost:8080/"
        },
        "id": "rCSynZFiT0JV",
        "outputId": "4f59ad4f-6c03-4412-f9db-865f3df92cbd"
      },
      "outputs": [
        {
          "name": "stdout",
          "output_type": "stream",
          "text": [
            "What's your choice? 'r' for 'rock' 'p' for 'paper' and 's' for scissor: s\n",
            "It's a tie\n",
            "What's your choice? 'r' for 'rock' 'p' for 'paper' and 's' for scissor: r\n",
            "You Lost!!\n",
            "What's your choice? 'r' for 'rock' 'p' for 'paper' and 's' for scissor: r\n",
            "You Lost!!\n",
            "What's your choice? 'r' for 'rock' 'p' for 'paper' and 's' for scissor: r\n",
            "It's a tie\n",
            "What's your choice? 'r' for 'rock' 'p' for 'paper' and 's' for scissor: r\n",
            "You Lost!!\n",
            "What's your choice? 'r' for 'rock' 'p' for 'paper' and 's' for scissor: r\n",
            "You Lost!!\n",
            "What's your choice? 'r' for 'rock' 'p' for 'paper' and 's' for scissor: r\n",
            "It's a tie\n",
            "What's your choice? 'r' for 'rock' 'p' for 'paper' and 's' for scissor: r\n",
            "It's a tie\n",
            "What's your choice? 'r' for 'rock' 'p' for 'paper' and 's' for scissor: r\n",
            "You Won!!\n",
            "What's your choice? 'r' for 'rock' 'p' for 'paper' and 's' for scissor: \n"
          ]
        }
      ],
      "source": [
        "\n",
        "import random\n",
        "\n",
        "def play():\n",
        "  while True:\n",
        "    user = input(\"What's your choice? 'r' for 'rock' 'p' for 'paper' and 's' for scissor: \").lower()\n",
        "    computer = random.choice(['r','p','s'])\n",
        "\n",
        "    if user == '':\n",
        "      break\n",
        "\n",
        "    if user not in ['r','p','s']:\n",
        "      print(\"Invalid Input\")\n",
        "      continue\n",
        "\n",
        "    if user == computer:\n",
        "      print(\"It's a tie\")\n",
        "      continue\n",
        "\n",
        "    if iswin(user,computer):\n",
        "      print(\"You Won!!\")\n",
        "    else:\n",
        "      print(\"You Lost!!\")\n",
        "\n",
        "def iswin(player,opponent):\n",
        "\n",
        "  if(player == 'r' and opponent == 's' or player == 's' and opponent == 'p' or player == 'p' and opponent == 'r'):\n",
        "    return True\n",
        "\n",
        "if __name__ == '__main__':\n",
        "  play()\n"
      ]
    }
  ]
}