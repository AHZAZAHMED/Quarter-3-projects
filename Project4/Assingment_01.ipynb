{
  "nbformat": 4,
  "nbformat_minor": 0,
  "metadata": {
    "colab": {
      "provenance": []
    },
    "kernelspec": {
      "name": "python3",
      "display_name": "Python 3"
    },
    "language_info": {
      "name": "python"
    }
  },
  "cells": [
    {
      "cell_type": "markdown",
      "source": [
        "#01_basic"
      ],
      "metadata": {
        "id": "g-91cWvvIF01"
      }
    },
    {
      "cell_type": "markdown",
      "source": [
        "###00_joke_bot"
      ],
      "metadata": {
        "id": "0egRUrZcIIYX"
      }
    },
    {
      "cell_type": "code",
      "execution_count": null,
      "metadata": {
        "colab": {
          "base_uri": "https://localhost:8080/"
        },
        "id": "5vSR0yKZCGr0",
        "outputId": "e7c0a369-78ad-4f7e-f7c7-b5c97cd2800e"
      },
      "outputs": [
        {
          "output_type": "stream",
          "name": "stdout",
          "text": [
            "What do you want? sdnc\n",
            "Sorry I only tell jokes\n"
          ]
        }
      ],
      "source": [
        "\n",
        "JOKE : str = \"Here is a joke for you! Panaversity GPT - Sophia is heading out to the grocery store. A programmer tells her: get a liter of milk, and if they have eggs, get 12. Sophia returns with 13 liters of milk. The programmer asks why and Sophia replies: 'because they had eggs'\"\n",
        "SORRY : str = \"Sorry I only tell jokes\"\n",
        "def main():\n",
        "  PROMPT : str = input(\"What do you want? \").lower()\n",
        "  if PROMPT == \"joke\":\n",
        "    print(JOKE)\n",
        "  else:\n",
        "    print(SORRY)\n",
        "\n",
        "if __name__ == \"__main__\":\n",
        "  main()"
      ]
    },
    {
      "cell_type": "markdown",
      "source": [
        "###01_double_it"
      ],
      "metadata": {
        "id": "dudJoUM-INV1"
      }
    },
    {
      "cell_type": "code",
      "source": [
        "def main():\n",
        "  user_input : int = int(input(\"Enter a number: \"))\n",
        "  while user_input * 2  < 100:\n",
        "    user_input *= 2\n",
        "    print(user_input)\n",
        "if __name__ == \"__main__\":\n",
        "  main()"
      ],
      "metadata": {
        "colab": {
          "base_uri": "https://localhost:8080/"
        },
        "id": "YJAghmmNE5Ze",
        "outputId": "3c42b0be-fd9e-4863-c0d7-318138e59ffd"
      },
      "execution_count": null,
      "outputs": [
        {
          "output_type": "stream",
          "name": "stdout",
          "text": [
            "Enter a number: 4\n",
            "8\n",
            "16\n",
            "32\n",
            "64\n"
          ]
        }
      ]
    },
    {
      "cell_type": "markdown",
      "source": [
        "###02_liftoff"
      ],
      "metadata": {
        "id": "jY0bxoZwIRFW"
      }
    },
    {
      "cell_type": "code",
      "source": [
        "def main():\n",
        "  for i in range(10):\n",
        "    print(10-i)\n",
        "  print(\"Liftoff!\")\n",
        "\n",
        "if __name__ == \"__main__\":\n",
        "  main()"
      ],
      "metadata": {
        "colab": {
          "base_uri": "https://localhost:8080/"
        },
        "id": "r_p8WqO8FVPZ",
        "outputId": "3465bdc4-5944-4747-e7ff-c9b9fbaa24ad"
      },
      "execution_count": null,
      "outputs": [
        {
          "output_type": "stream",
          "name": "stdout",
          "text": [
            "10\n",
            "9\n",
            "8\n",
            "7\n",
            "6\n",
            "5\n",
            "4\n",
            "3\n",
            "2\n",
            "1\n",
            "Liftoff!\n"
          ]
        }
      ]
    },
    {
      "cell_type": "markdown",
      "source": [
        "###03_guess_my_number"
      ],
      "metadata": {
        "id": "RqwODqzkIUwp"
      }
    },
    {
      "cell_type": "code",
      "source": [
        "import random\n",
        "def main():\n",
        "  number_to_guess = random.randint(1,99)\n",
        "  print(\"I am thinking of a number between 1 and 99.\")\n",
        "  user_guess = int(input(\"Enter a guess: \"))\n",
        "  while True:\n",
        "\n",
        "    if user_guess < number_to_guess:\n",
        "      print(\"Your guess is to low.\")\n",
        "      user_guess = int(input(\"Enter a new number:\"))\n",
        "      continue\n",
        "    elif user_guess > number_to_guess:\n",
        "      print(\"Your guess is to high.\")\n",
        "      user_guess = int(input(\"Enter a new number:\"))\n",
        "      continue\n",
        "    elif user_guess == number_to_guess:\n",
        "      print(f\"Congrats! The number was:{number_to_guess}\")\n",
        "      break\n",
        "    else:\n",
        "      print(\"Please enter a valid number\")\n",
        "      user_guess = int(input(\"Enter a new number:\"))\n",
        "      continue\n",
        "\n",
        "if __name__ == \"__main__\":\n",
        "  main()"
      ],
      "metadata": {
        "colab": {
          "base_uri": "https://localhost:8080/"
        },
        "id": "a1oEQLyrFswx",
        "outputId": "68ca6e0e-bd91-489b-f4b2-fd120114173d"
      },
      "execution_count": null,
      "outputs": [
        {
          "output_type": "stream",
          "name": "stdout",
          "text": [
            "I am thinking of a number between 1 and 99.\n",
            "Enter a guess: 23\n",
            "Your guess is to low.\n",
            "Enter a new number:45\n",
            "Your guess is to low.\n",
            "Enter a new number:76\n",
            "Your guess is to low.\n",
            "Enter a new number:98\n",
            "Your guess is to high.\n",
            "Enter a new number:89\n",
            "Congrats! The number was:89\n"
          ]
        }
      ]
    },
    {
      "cell_type": "markdown",
      "source": [
        "###04_random_numbers"
      ],
      "metadata": {
        "id": "gQUPWJagIY69"
      }
    },
    {
      "cell_type": "code",
      "source": [
        "import random\n",
        "def main():\n",
        "  number : set = set()\n",
        "  while len(number) < 10:\n",
        "    number.add(random.randint(1,100))\n",
        "\n",
        "  print(\" \".join(map(str,number)))\n",
        "\n",
        "if __name__ == \"__main__\":\n",
        "  main()"
      ],
      "metadata": {
        "colab": {
          "base_uri": "https://localhost:8080/"
        },
        "id": "TR4TvEk2GJo-",
        "outputId": "112fb3b8-9449-491d-84c8-45ca0e31ceda"
      },
      "execution_count": null,
      "outputs": [
        {
          "output_type": "stream",
          "name": "stdout",
          "text": [
            "64 8 43 44 77 11 16 20 26 94\n"
          ]
        }
      ]
    }
  ]
}